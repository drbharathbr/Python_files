{
 "cells": [
  {
   "cell_type": "markdown",
   "id": "2eafc889-a11d-461b-b478-f80908a3932b",
   "metadata": {},
   "source": [
    "                                                             Programming with Guido van Rossum\n",
    "Python was created by Guido van Rossum, and first released on February 20, 1991. While you may know the python as a large snake, the name of the Python programming language comes from an old BBC television comedy sketch series called Monty Python's Flying Circus.python's origin country:Netherlands.Guido van Rossum developed python 1st version to overcome the challenges faced in ABC langauge in his christmas holidays.\n",
    "\n",
    "                                                                        Introduction\n",
    "Basics:\n",
    "            Introduction,Variables,Operations,If Else,Loops,Lists,Guess the Number Game,Debugging,Tuples,Dictionary,Set,String Formatting,String Slicing,Functions,Variable Scope,Variable Length Arguments,Recursion,Generators,Modules,Exception Handling,Files\n",
    "Object Oriented:\n",
    "            OOP introduction,Classes and Objects,Class Variables,Inheritance,Method Overriding,Method Chaining,Super Function,Abstract Class,Passing Objects,Duck Typing,Library Management\n",
    "    Advanced:\n",
    "            Higher Order Functions,Lambda,Sorting with Key,Map,Filter,Reduce,List Comprehension,Dictionary Comprehension,Zip Function,MultiThreading,How Python Interpreter Works?,Memory Management,Learning path\n",
    "            \n",
    "What is a program?\n",
    "\n",
    "            Instruction given to computer\n",
    "            Eg: Add to 2 and 5\n",
    "              \n",
    "Can a computer understand English language?\n",
    "\n",
    "              No a computer cannot undertstand english,that's why we use programming language like c,c++,Python and so on,through a programming language we can communicate with computer,those instruction known as program.\n",
    "              \n",
    "Applications of Python:\n",
    "\n",
    "                #Build a website\n",
    "                \n",
    "                #Build a game\n",
    "                \n",
    "                #Artifical intelligence\n",
    "                \n",
    "                #Data Science\n",
    "                \n",
    "                #Automation\n",
    "                \n",
    "                Instagram,Quora were (complete architecture)build using python,spotify,netflix were majorly used python.\n",
    "\n",
    "    "
   ]
  },
  {
   "cell_type": "markdown",
   "id": "5d72fdb8-00c7-48a3-aa9d-84fccc047604",
   "metadata": {},
   "source": [
    "First python Program"
   ]
  },
  {
   "cell_type": "code",
   "execution_count": 18,
   "id": "887022a2-ec8d-4324-9888-eb7cc9baa458",
   "metadata": {},
   "outputs": [
    {
     "name": "stdout",
     "output_type": "stream",
     "text": [
      "Hello everyone\n"
     ]
    }
   ],
   "source": [
    "print('Hello everyone')#String- set of characters-comment"
   ]
  },
  {
   "cell_type": "markdown",
   "id": "4e258b0e-bfbc-4647-a5f8-f2c1f8503326",
   "metadata": {},
   "source": [
    "Source Code---------->Python Interpreter----------->Processor(transistors,capacitor)\n",
    "\n",
    "Interpreter-software or piece of code (Converts Object Code to Machine Code).\n",
    "\n",
    "function-print()-inbuild function-call\n",
    "\n",
    "#Generally function includes parenthesis.\n",
    "\n",
    "#Usually function is used to do a particular task eg:print().\n",
    "\n",
    "#we are using python 3 not python 2."
   ]
  },
  {
   "cell_type": "markdown",
   "id": "81f6f186-e7b0-455b-b6bc-b6778ac0ed9b",
   "metadata": {},
   "source": [
    "Variables\n",
    "\n",
    "Interpreter executes statement line by line where as compiler compiles  statement completely before sending to processor\n",
    "\n",
    "Programming language like c,c++,we need to mention datatype of the variable(int num = 12;),in python we don't need to specify the data type of the variable, that's why python is known as dynamically typed language.\n",
    "\n",
    "Statically typed language   - c,c++\n",
    "\n",
    "Dynamically typed language   - Python\n",
    "\n",
    " #-Single line comment(Used to specify single line).\n",
    " \n",
    " ' ' '    ' ' '-multi line comment(three single quotes-Used to specify multiple line-paragraph).\n",
    "\n",
    "The rules to be followed while naming a variable\n",
    "\n",
    "valid   - name,first_name,name_234,_name(Underscore is the only special character allowed to name a variable).\n",
    "\n",
    "invalid -name#,name$,1name,reversed keyword Eg:print(Space between the variable name is not allowed,we can use underscore(_)between the variable name),Variable name shoud be meaningful Eg:abc,the Variable name shoud describe the content stored in it.\n",
    "\n",
    "In other programming language,we will name identifier using camelcase naming convention(Eg:firstName),Python will allow camelcase naming convention ,but using underscore(_) will be a good pratice for python developers.\n",
    "\n",
    "A variable used to store string,whole numbers,floating point numbers,boolean values."
   ]
  },
  {
   "cell_type": "code",
   "execution_count": 19,
   "id": "5d5a5d65-c9ce-413d-9e11-4eef55aef703",
   "metadata": {},
   "outputs": [
    {
     "name": "stdout",
     "output_type": "stream",
     "text": [
      "Bharath\n",
      "hi Bharath\n",
      "hi Rahul0206\n"
     ]
    }
   ],
   "source": [
    "name ='Bharath' #name- variable used to store the data or value temporily\n",
    "print(name)\n",
    "print('hi '+ name)\n",
    "name=\"Rahul0206\" #String\n",
    "print(\"hi \" + name) \n",
    "price = 45       #Integer(number)\n",
    "price  = 45.5    #Float(Decimal)\n",
    "child = True     #Boolean type(True or False)\n",
    "\n"
   ]
  },
  {
   "cell_type": "markdown",
   "id": "1fd7aaae-35f2-4f11-a978-b5819c0ac5e1",
   "metadata": {},
   "source": [
    "String Handling\n",
    "\n",
    "Inbuild method's available in string\n",
    "\n",
    "Methods,functions- performs a particular task,both comes along with parentheses because sometimes we need to give more information to perform specific task\n",
    "\n",
    "Function - Called directly\n",
    "\n",
    "method   - Should be invoked by variable or object using . dot Operator\n",
    " Concatenation - add to number in numbers(10+5),join two string(Hi + \"\\t\"+ Bharath)\n",
    "\n",
    " Escape sequence(backslash-\\)-\\n move to curser to next line and then print it, \\t create one tab space and then print it.\n",
    "\n",
    " Website:"
   ]
  },
  {
   "cell_type": "code",
   "execution_count": 20,
   "id": "d726e231-cebb-4edb-ad23-9498f5a79d7c",
   "metadata": {},
   "outputs": [
    {
     "name": "stdout",
     "output_type": "stream",
     "text": [
      "Bharath's brother\n",
      "Rahul\n",
      "\"inner peace\"\n",
      "RAHUL\n",
      "rahul\n",
      "\"Inner Peace\"\n",
      "Bharath's brotherRahul\n",
      "Bharath's brother\tRahul\n",
      "Bharath's brotherRahul\n",
      "Hi \n",
      " Bharath\n",
      "Hi \t Bharath\n",
      "13\n",
      "15\n",
      "4\n",
      "1\n",
      "Bhaaath's baothea\n",
      "False\n",
      "True\n",
      "False\n",
      "Bharath's brotherBharath's brotherBharath's brotherBharath's brotherBharath's brotherBharath's brotherBharath's brotherBharath's brotherBharath's brotherBharath's brotherBharath's brotherBharath's brotherBharath's brotherBharath's brotherBharath's brotherBharath's brotherBharath's brotherBharath's brotherBharath's brotherBharath's brother\n"
     ]
    }
   ],
   "source": [
    "data =\"Bharath's brother\"\n",
    "name ='Rahul'\n",
    "moto ='\"inner peace\"'\n",
    "sample_string=\"Au cse's@ds2024\"#space,special symbols,numbers are counted in character,python assign index for each character which start from 0.\n",
    "print(data)\n",
    "print(name)\n",
    "print(moto)\n",
    "print(name.upper())#print-function,upper-method\n",
    "print(name.lower())\n",
    "print(moto.title())#converts first letter of the word to capital\n",
    "print(data+name) #Concendination without space \n",
    "print(data+\"\\t\"+name)\n",
    "database=data +name# righthand side always stored in lefthand side\n",
    "print(database)\n",
    "print(\"Hi \\n Bharath\")\n",
    "print(\"Hi \\t Bharath\")\n",
    "print(len(moto))#Used to find the length of string\n",
    "print(len(sample_string)) #method will find and return the value ,print is used to print that value.\n",
    "print(sample_string.find(\"s\"))#Used to find a character in a string,if the sting contains to same character in string python consider first occurance.\n",
    "print(data.count('b'))#python will swift to inbuild method when we call those method,execute it and return value and then back to source code.\n",
    "print(data.replace(\"r\",'a'))\n",
    "print(data.isalpha())#Used to find the whether all the characters in the string are alphabets,which returns true or false ,this statement is False because space is considered as character.\n",
    "print(name.isalpha())\n",
    "print(name.isdigit())#Used to find the whether all the characters in the string are numbers\n",
    "print(data * 20)#This is one of the great advamtage of python,we can't perform this operation in must of the programming languages.\n",
    "#Other String methods isupper(),islower() and so on."
   ]
  },
  {
   "cell_type": "markdown",
   "id": "e87383a6-26da-439c-8d9a-0068c96e81f5",
   "metadata": {},
   "source": [
    "Multiple Assignment\n",
    "\n",
    "We call it as assignment(=) because we are assigning RHS value to LHS Variable."
   ]
  },
  {
   "cell_type": "code",
   "execution_count": 21,
   "id": "7ef3d9ab-6e8e-4ae3-947b-7f6c648bb49b",
   "metadata": {},
   "outputs": [
    {
     "name": "stdout",
     "output_type": "stream",
     "text": [
      "16\n",
      "200\n"
     ]
    }
   ],
   "source": [
    "name='Rahul'\n",
    "age = 16\n",
    "height=178\n",
    "# OR\n",
    "name,age,height='Rahul',16,178#Sometimes python interpreter shows error to resolve those we need to leave space next to comma(,).\n",
    "print(age)\n",
    "\n",
    "Instagram_likes=200\n",
    "Instagram_dislikes=200\n",
    "#OR\n",
    "Instagram_likes=Instagram_dislikes=200#Both are same.\n",
    "print(Instagram_likes)"
   ]
  },
  {
   "cell_type": "markdown",
   "id": "af7fc499-462b-4a72-bd7a-b0023c7e987b",
   "metadata": {},
   "source": [
    "Type Casting"
   ]
  },
  {
   "cell_type": "code",
   "execution_count": 22,
   "id": "aa52f678-a59b-4318-842e-34b620b04730",
   "metadata": {},
   "outputs": [
    {
     "name": "stdout",
     "output_type": "stream",
     "text": [
      "Your roll Number is: 2036110028\n",
      "<class 'int'>\n",
      "<class 'str'>\n",
      "52\n",
      "502\n",
      "52.2\n",
      "52\n"
     ]
    }
   ],
   "source": [
    "rollno=2036110028\n",
    "#print(\"Your roll Number is: \"+rollno)Python interpreter shows an error while executing because string can be concatenate String not other data type values(Eg:int)\n",
    "#Type Casting plays a vital role to resolve this issue.\n",
    "print(\"Your roll Number is: \"+str(rollno))#type casting-in this line of code 'rollno'is temporarily changes its type(Int to Str)for only for this instanse,check the data type of rollno variable it remains same as Int datatype.\n",
    "print(type(rollno))# In python Programming language we should'nt mention datatype of variable, we should mention this variable belongs to Class Int.\n",
    "#Python is pure object oriented programming language everything is viewed as Classes and Object.\n",
    "\n",
    "#If we wish to change the type of the data permanantly,we can use this method\n",
    "rollno=str(rollno)\n",
    "print(type(rollno)) \n",
    "\n",
    "number=\"50\" #Belongs to String Class\n",
    "print(int(number)+2)#Type Casting(Int)\n",
    "print(number+'2')\n",
    "\n",
    "Float_number=\"50.2\"\n",
    "print(float(Float_number)+2)#Type Casting(Float)\n",
    "\n",
    "print(int(float(Float_number))+2)\n"
   ]
  },
  {
   "cell_type": "markdown",
   "id": "f683cc62-6032-4c14-9b9a-558894baf2f8",
   "metadata": {},
   "source": [
    "User Input - We can't develop all the project without getting input from user,we may need to get some information from user(Interaction with user).\n",
    "\n",
    "In general,Input function will return the 'Str' value,we can change type of data using \"Type Casting\".\n",
    "\n",
    "To reduce places in floating value,we can use format method, to use format method we should give str(\" \") in front of format method(str.format),to represent str we use double quotes inside double quotes we mention {} curly braces ,inside placeholder we would mention required format.\n",
    "\n",
    "To view only two decimal  places after point:Syntax-\"{:.2f}\".format.\n",
    " "
   ]
  },
  {
   "cell_type": "code",
   "execution_count": 23,
   "id": "56f9c2e4-94f0-4366-9763-ad5bb74ab221",
   "metadata": {},
   "outputs": [
    {
     "name": "stdin",
     "output_type": "stream",
     "text": [
      "Enter your name:  Rahul\n",
      "Enter your name:  Rahulraj\n"
     ]
    },
    {
     "name": "stdout",
     "output_type": "stream",
     "text": [
      "Hi Rahulraj\n"
     ]
    },
    {
     "name": "stdin",
     "output_type": "stream",
     "text": [
      "Metion your height 179\n"
     ]
    },
    {
     "name": "stdout",
     "output_type": "stream",
     "text": [
      "your height 179.0 cm\n",
      "your height 70.47 inchs\n"
     ]
    }
   ],
   "source": [
    "input(\"Enter your name: \")#input(function)-print the content inside the parentheses and then get the input data from the user and return it.First execute the inner most(nested form).\n",
    "name= input(\"Enter your name: \")#the returned data received from the user and the store it in variable called 'name'.\n",
    "print('Hi '+name)\n",
    "#height=input('Metion your height')due to errors in loc-6,Type casting need to be implemented.\n",
    "height=float(input('Metion your height'))\n",
    "print('your height '+str(height)+' cm')\n",
    "#print('your height '+height/2.54+' inchs')Shows errors because 'height' belongs to class Str,a number can't divide a Str.\n",
    "#print('your height '+str(height/2.54)+' inchs')\n",
    "height_inchs=\"{:.2f}\".format(height/2.54)\n",
    "print('your height '+height_inchs+' inchs')"
   ]
  },
  {
   "cell_type": "markdown",
   "id": "5df68e9c-b4da-4071-bfcc-c3c1cf6a830c",
   "metadata": {},
   "source": [
    "Math Operations"
   ]
  },
  {
   "cell_type": "code",
   "execution_count": 24,
   "id": "da79c53f-27cf-4505-a194-7118883ad303",
   "metadata": {},
   "outputs": [],
   "source": [
    "a=b=5"
   ]
  },
  {
   "cell_type": "code",
   "execution_count": 25,
   "id": "5016406f-cdfd-46b3-9b20-6fc5c35eac2a",
   "metadata": {},
   "outputs": [
    {
     "data": {
      "text/plain": [
       "10"
      ]
     },
     "execution_count": 25,
     "metadata": {},
     "output_type": "execute_result"
    }
   ],
   "source": [
    "a+b#Addition"
   ]
  },
  {
   "cell_type": "code",
   "execution_count": 26,
   "id": "b273f14b-94a5-4723-93bd-7d3a259386e3",
   "metadata": {},
   "outputs": [
    {
     "data": {
      "text/plain": [
       "0"
      ]
     },
     "execution_count": 26,
     "metadata": {},
     "output_type": "execute_result"
    }
   ],
   "source": [
    "a-b#Subtraction"
   ]
  },
  {
   "cell_type": "code",
   "execution_count": 27,
   "id": "28275312-8a1a-43f0-beaf-9321cd539bf6",
   "metadata": {},
   "outputs": [
    {
     "data": {
      "text/plain": [
       "25"
      ]
     },
     "execution_count": 27,
     "metadata": {},
     "output_type": "execute_result"
    }
   ],
   "source": [
    "a*b#multiplication"
   ]
  },
  {
   "cell_type": "code",
   "execution_count": 28,
   "id": "696d7b90-0be3-4faa-a9eb-e691b8589663",
   "metadata": {},
   "outputs": [
    {
     "data": {
      "text/plain": [
       "1.0"
      ]
     },
     "execution_count": 28,
     "metadata": {},
     "output_type": "execute_result"
    }
   ],
   "source": [
    "a/b#Division"
   ]
  },
  {
   "cell_type": "code",
   "execution_count": 29,
   "id": "e9939538-0d4a-4fa3-83df-ad6c07cd7bb3",
   "metadata": {},
   "outputs": [
    {
     "data": {
      "text/plain": [
       "0.8333333333333334"
      ]
     },
     "execution_count": 29,
     "metadata": {},
     "output_type": "execute_result"
    }
   ],
   "source": [
    "a/6"
   ]
  },
  {
   "cell_type": "code",
   "execution_count": 30,
   "id": "4e804835-06bc-4e87-99f8-ccb26c57b00f",
   "metadata": {},
   "outputs": [
    {
     "data": {
      "text/plain": [
       "2.5"
      ]
     },
     "execution_count": 30,
     "metadata": {},
     "output_type": "execute_result"
    }
   ],
   "source": [
    "b/2"
   ]
  },
  {
   "cell_type": "code",
   "execution_count": 31,
   "id": "b321a034-44c4-4b00-b974-cf6fb85a7120",
   "metadata": {},
   "outputs": [
    {
     "data": {
      "text/plain": [
       "7"
      ]
     },
     "execution_count": 31,
     "metadata": {},
     "output_type": "execute_result"
    }
   ],
   "source": [
    "5+2 #Usually we don't add two numbers."
   ]
  },
  {
   "cell_type": "code",
   "execution_count": 32,
   "id": "75cb00c0-3eb6-44c4-b87a-b3982c809815",
   "metadata": {},
   "outputs": [
    {
     "data": {
      "text/plain": [
       "20"
      ]
     },
     "execution_count": 32,
     "metadata": {},
     "output_type": "execute_result"
    }
   ],
   "source": [
    "(a+b)*2"
   ]
  },
  {
   "cell_type": "code",
   "execution_count": 33,
   "id": "475db9bd-01be-4a6f-a83d-faa216f0e76e",
   "metadata": {},
   "outputs": [
    {
     "data": {
      "text/plain": [
       "15"
      ]
     },
     "execution_count": 33,
     "metadata": {},
     "output_type": "execute_result"
    }
   ],
   "source": [
    "a+b*2#the output will be different from previous cell,both may be similar,OPERATOR PRECEDENCE plays a vitol role in exectution.to overcome operator precedence we can use parentheses. "
   ]
  },
  {
   "cell_type": "markdown",
   "id": "69990493-3f82-4ac4-a7d9-8be50a5dca80",
   "metadata": {},
   "source": [
    " Some of the useful mathematical functions\n",
    " "
   ]
  },
  {
   "cell_type": "code",
   "execution_count": 34,
   "id": "ae914dc3-1fa1-4417-b3fc-80592cbef04c",
   "metadata": {},
   "outputs": [
    {
     "data": {
      "text/plain": [
       "10"
      ]
     },
     "execution_count": 34,
     "metadata": {},
     "output_type": "execute_result"
    }
   ],
   "source": [
    "a=9.71\n",
    "round(a)#Used to round off the number"
   ]
  },
  {
   "cell_type": "code",
   "execution_count": 35,
   "id": "76de6e21-9d64-417a-bff6-0e082147bdf1",
   "metadata": {},
   "outputs": [
    {
     "data": {
      "text/plain": [
       "2"
      ]
     },
     "execution_count": 35,
     "metadata": {},
     "output_type": "execute_result"
    }
   ],
   "source": [
    "a=-2\n",
    "abs(a)#abs-returns absolute value(used to convert negative value to positive value)\n"
   ]
  },
  {
   "cell_type": "code",
   "execution_count": 36,
   "id": "15eb3be3-0255-459c-bb86-e85861f63dae",
   "metadata": {},
   "outputs": [
    {
     "data": {
      "text/plain": [
       "2"
      ]
     },
     "execution_count": 36,
     "metadata": {},
     "output_type": "execute_result"
    }
   ],
   "source": [
    "a=2\n",
    "abs(2)"
   ]
  },
  {
   "cell_type": "code",
   "execution_count": 37,
   "id": "5f8addca-b13f-428d-b277-715afc2537bc",
   "metadata": {},
   "outputs": [
    {
     "data": {
      "text/plain": [
       "4"
      ]
     },
     "execution_count": 37,
     "metadata": {},
     "output_type": "execute_result"
    }
   ],
   "source": [
    "pow(a,2) #Used to calculate the power of the number"
   ]
  },
  {
   "cell_type": "code",
   "execution_count": 38,
   "id": "81395919-167f-4cc9-b219-fe0a6799d07c",
   "metadata": {},
   "outputs": [
    {
     "data": {
      "text/plain": [
       "4"
      ]
     },
     "execution_count": 38,
     "metadata": {},
     "output_type": "execute_result"
    }
   ],
   "source": [
    "#Instead of using power function,we can use other way(using double multplication symbol-star)\n",
    "a**2"
   ]
  },
  {
   "cell_type": "code",
   "execution_count": 39,
   "id": "10087d26-b875-4256-898f-a9a8449e708f",
   "metadata": {},
   "outputs": [
    {
     "data": {
      "text/plain": [
       "5"
      ]
     },
     "execution_count": 39,
     "metadata": {},
     "output_type": "execute_result"
    }
   ],
   "source": [
    "max(a,b)#Compare the two values in variables,return maximum value."
   ]
  },
  {
   "cell_type": "code",
   "execution_count": 40,
   "id": "ddd8e1c4-9776-4bcd-892e-cd6e2de7a59f",
   "metadata": {},
   "outputs": [
    {
     "name": "stdout",
     "output_type": "stream",
     "text": [
      "2\n"
     ]
    }
   ],
   "source": [
    "print(min(a,b))#Compare the two values in variables,return minimum value."
   ]
  },
  {
   "cell_type": "markdown",
   "id": "15fa1501-1998-4e51-8a7e-3f1d312ae95c",
   "metadata": {},
   "source": [
    "There are many other mathematical functions available in python to use those functions,we must import a module called \"math\",inside math module there are many mathematical functions.\n",
    "\n",
    "Website:"
   ]
  },
  {
   "cell_type": "code",
   "execution_count": 41,
   "id": "350966f8-825e-4fe7-9f26-6868d9eb2e9c",
   "metadata": {},
   "outputs": [
    {
     "data": {
      "text/plain": [
       "10"
      ]
     },
     "execution_count": 41,
     "metadata": {},
     "output_type": "execute_result"
    }
   ],
   "source": [
    "import math\n",
    "OGPA=9.03\n",
    "#print(ceil(OGPA))we  need to specify that the ceil function belongs to math module(Remember hadoop change directry).\n",
    "math.ceil(OGPA)#Round off to next number."
   ]
  },
  {
   "cell_type": "code",
   "execution_count": 42,
   "id": "d5907a00-e07f-4407-8c87-977be65dddf2",
   "metadata": {},
   "outputs": [
    {
     "data": {
      "text/plain": [
       "9"
      ]
     },
     "execution_count": 42,
     "metadata": {},
     "output_type": "execute_result"
    }
   ],
   "source": [
    "math.floor(OGPA)#Round off to previous number"
   ]
  },
  {
   "cell_type": "code",
   "execution_count": 43,
   "id": "1e9c7f36-8f62-4340-9d4b-5674f339772d",
   "metadata": {},
   "outputs": [
    {
     "data": {
      "text/plain": [
       "5040"
      ]
     },
     "execution_count": 43,
     "metadata": {},
     "output_type": "execute_result"
    }
   ],
   "source": [
    "math.factorial(7)\n",
    "\n",
    "#GCD function also available in 'math' module."
   ]
  },
  {
   "cell_type": "code",
   "execution_count": 44,
   "id": "a4d87bf1-eedd-4a63-b126-aed8607faee8",
   "metadata": {},
   "outputs": [
    {
     "data": {
      "text/plain": [
       "1"
      ]
     },
     "execution_count": 44,
     "metadata": {},
     "output_type": "execute_result"
    }
   ],
   "source": [
    "#Modulus operator\n",
    "a=7\n",
    "a%2#Returns remainder while dividing traditional division operator(a/2)gives us quotient.Used to check whether the division is carried out properly or not"
   ]
  },
  {
   "cell_type": "code",
   "execution_count": 45,
   "id": "d0570b6b-9302-410f-b4dd-78666e369342",
   "metadata": {},
   "outputs": [
    {
     "data": {
      "text/plain": [
       "3.5"
      ]
     },
     "execution_count": 45,
     "metadata": {},
     "output_type": "execute_result"
    }
   ],
   "source": [
    "a/2 #Division Operation "
   ]
  },
  {
   "cell_type": "markdown",
   "id": "704527fe-13a8-4042-947d-7d77450f4b4e",
   "metadata": {},
   "source": [
    "If Else\n",
    "\n",
    "In a program we can,t instruct the interpreter to execute all code line by line,sometimes we need to execute the program based upon some condition.in many situation based upon the condition the instructions must be changed.\n",
    "\n",
    "Branching will be performed(If Else-condition),must(Relational operator) will be used in the If Conditional statement instead of variable name."
   ]
  },
  {
   "cell_type": "code",
   "execution_count": 46,
   "id": "308d38fe-19a6-4333-847a-390a63d73b68",
   "metadata": {},
   "outputs": [
    {
     "name": "stdout",
     "output_type": "stream",
     "text": [
      "You are a student of Annamalai University\n",
      "Thank you\n",
      "You are not a student of Annamalai University\n",
      "Thank you\n"
     ]
    }
   ],
   "source": [
    "Student_rollno=True\n",
    "if Student_rollno:\n",
    "    print('You are a student of Annamalai University')\n",
    "else:\n",
    "    print('You are not a student of Annamalai University')\n",
    "print('Thank you')\n",
    "\n",
    "Student_rollno=False\n",
    "if Student_rollno:#Conditional Statement\n",
    "    print('You are a student of Annamalai University')\n",
    "else:\n",
    "    print('You are not a student of Annamalai University')\n",
    "print('Thank you')"
   ]
  },
  {
   "cell_type": "markdown",
   "id": "803b2979-539b-4b29-85cd-06c54661bb29",
   "metadata": {},
   "source": [
    "We Can find values by comparing variables(Relational operator)-used to compare the relationship between two number,variables and so on,the result will be always true or false\n",
    "because we are asking questions to python."
   ]
  },
  {
   "cell_type": "code",
   "execution_count": 47,
   "id": "dfd93211-3710-4778-801d-8518d4f24a64",
   "metadata": {},
   "outputs": [
    {
     "data": {
      "text/plain": [
       "True"
      ]
     },
     "execution_count": 47,
     "metadata": {},
     "output_type": "execute_result"
    }
   ],
   "source": [
    "number=30 \n",
    "number > 0 #Greater than"
   ]
  },
  {
   "cell_type": "code",
   "execution_count": 48,
   "id": "111625a8-5785-4ab5-8751-f9c5eb408634",
   "metadata": {},
   "outputs": [
    {
     "data": {
      "text/plain": [
       "False"
      ]
     },
     "execution_count": 48,
     "metadata": {},
     "output_type": "execute_result"
    }
   ],
   "source": [
    "number > 200 #Greater than"
   ]
  },
  {
   "cell_type": "code",
   "execution_count": 49,
   "id": "95766902-5dee-4f1e-819b-e0c08e06816a",
   "metadata": {},
   "outputs": [
    {
     "data": {
      "text/plain": [
       "False"
      ]
     },
     "execution_count": 49,
     "metadata": {},
     "output_type": "execute_result"
    }
   ],
   "source": [
    "number < 20 #Lesser than"
   ]
  },
  {
   "cell_type": "code",
   "execution_count": 50,
   "id": "a5c0e751-e848-4e9a-af2f-1bef4b9f7529",
   "metadata": {},
   "outputs": [
    {
     "data": {
      "text/plain": [
       "True"
      ]
     },
     "execution_count": 50,
     "metadata": {},
     "output_type": "execute_result"
    }
   ],
   "source": [
    "number < 70 #Lesser than"
   ]
  },
  {
   "cell_type": "code",
   "execution_count": 51,
   "id": "d392e87e-edbc-4c9c-a92d-f702b5ccf404",
   "metadata": {},
   "outputs": [
    {
     "data": {
      "text/plain": [
       "False"
      ]
     },
     "execution_count": 51,
     "metadata": {},
     "output_type": "execute_result"
    }
   ],
   "source": [
    "number >= 40  #Greater than or equal to"
   ]
  },
  {
   "cell_type": "code",
   "execution_count": 52,
   "id": "fde72e71-8155-4896-983a-2f6cf2d71b55",
   "metadata": {},
   "outputs": [
    {
     "data": {
      "text/plain": [
       "True"
      ]
     },
     "execution_count": 52,
     "metadata": {},
     "output_type": "execute_result"
    }
   ],
   "source": [
    "number >= 30  #Greater than or equal to"
   ]
  },
  {
   "cell_type": "code",
   "execution_count": 53,
   "id": "9c83ead9-3bc3-4772-b72d-9efcc343cbcf",
   "metadata": {},
   "outputs": [
    {
     "data": {
      "text/plain": [
       "True"
      ]
     },
     "execution_count": 53,
     "metadata": {},
     "output_type": "execute_result"
    }
   ],
   "source": [
    "number <= 40  #Lesser than or equal to"
   ]
  },
  {
   "cell_type": "code",
   "execution_count": 54,
   "id": "7a605197-0b9d-4b23-9d9e-db54ccf25410",
   "metadata": {},
   "outputs": [
    {
     "data": {
      "text/plain": [
       "True"
      ]
     },
     "execution_count": 54,
     "metadata": {},
     "output_type": "execute_result"
    }
   ],
   "source": [
    "number >= 30  #Lesser than or equal to"
   ]
  },
  {
   "cell_type": "code",
   "execution_count": 55,
   "id": "58259d22-e368-4b1a-aaa2-9fc2d9b706f0",
   "metadata": {},
   "outputs": [
    {
     "data": {
      "text/plain": [
       "True"
      ]
     },
     "execution_count": 55,
     "metadata": {},
     "output_type": "execute_result"
    }
   ],
   "source": [
    "number == 30  #equal to"
   ]
  },
  {
   "cell_type": "code",
   "execution_count": 56,
   "id": "a8ed1830-f9b0-4002-b18b-9b1310f2695a",
   "metadata": {},
   "outputs": [
    {
     "data": {
      "text/plain": [
       "False"
      ]
     },
     "execution_count": 56,
     "metadata": {},
     "output_type": "execute_result"
    }
   ],
   "source": [
    "number == 40  #equal to"
   ]
  },
  {
   "cell_type": "code",
   "execution_count": 57,
   "id": "eab90b28-8747-4f75-b226-fb26a8a99162",
   "metadata": {},
   "outputs": [
    {
     "data": {
      "text/plain": [
       "False"
      ]
     },
     "execution_count": 57,
     "metadata": {},
     "output_type": "execute_result"
    }
   ],
   "source": [
    "number != 30  #not equal to"
   ]
  },
  {
   "cell_type": "code",
   "execution_count": 58,
   "id": "3f8509e3-90b4-4a67-bfa1-774094822342",
   "metadata": {},
   "outputs": [
    {
     "data": {
      "text/plain": [
       "True"
      ]
     },
     "execution_count": 58,
     "metadata": {},
     "output_type": "execute_result"
    }
   ],
   "source": [
    "number != 40  #not equal to"
   ]
  },
  {
   "cell_type": "code",
   "execution_count": 59,
   "id": "87d7f5b3-9956-4f58-bd6e-7f2117d4022e",
   "metadata": {},
   "outputs": [
    {
     "name": "stdout",
     "output_type": "stream",
     "text": [
      "90 is multiple of 10\n"
     ]
    }
   ],
   "source": [
    "paper_mark=90\n",
    "if paper_mark %10==0:#Number divisible by 10,if remainder+0-divided properly.\n",
    "    print(str(paper_mark)+' is multiple of 10')\n",
    "else:\n",
    "    print(str(paper_mark)+' is not multiple of 10')"
   ]
  },
  {
   "cell_type": "markdown",
   "id": "ece30d4a-b8c2-43b5-a914-c308801cad74",
   "metadata": {},
   "source": [
    "elif ladder-Used to assign multiple if conditional statement"
   ]
  },
  {
   "cell_type": "code",
   "execution_count": 61,
   "id": "cb67984b-b3e4-4d52-9ba7-d16303968bc8",
   "metadata": {},
   "outputs": [
    {
     "name": "stdin",
     "output_type": "stream",
     "text": [
      "Enter your cuttoff mark:  190\n"
     ]
    },
    {
     "name": "stdout",
     "output_type": "stream",
     "text": [
      "You will get a seat in CSE(Data Science) program in Annamali University\n",
      "All the best\n"
     ]
    }
   ],
   "source": [
    "cutoff_mark=int(input('Enter your cuttoff mark: '))\n",
    "if cutoff_mark > 180:\n",
    "    print('You will get a seat in CSE(Data Science) program in Annamali University' )\n",
    "elif cutoff_mark >= 170:\n",
    "    print('You will get a seat in CSE(AI and Ml) program in Annamali University' )\n",
    "elif cutoff_mark >= 160:\n",
    "    print('You will get a seat in CSE program in Annamali University' )\n",
    "elif cutoff_mark >= 150:\n",
    "    print('You will get a seat in IT program in Annamali University' )\n",
    "elif cutoff_mark >= 140:\n",
    "    print('You will get a seat in Chemical Engineer program in Annamali University' )\n",
    "elif cutoff_mark > 110:\n",
    "    print('You will get a seat in EEE program in Annamali University' )\n",
    "else:\n",
    "      print('You may not get a seat in Annamali University' )\n",
    "print('All the best' )"
   ]
  },
  {
   "cell_type": "markdown",
   "id": "180dbe9a-2da0-4a4e-bbf3-0c40788c414d",
   "metadata": {},
   "source": [
    "nexted if-Used to assign multiple  if conditional statement  inside a if conditional statement\n",
    "\n",
    "Always else part is optional not neccessary\n",
    "\n",
    "Logical operators -(AND OR NOT)-We need to remember truth table's logic.\n"
   ]
  },
  {
   "cell_type": "code",
   "execution_count": 62,
   "id": "9e5d143f-3462-4bfe-a218-cd4a9501e031",
   "metadata": {},
   "outputs": [
    {
     "name": "stdin",
     "output_type": "stream",
     "text": [
      "Enter the number 158\n"
     ]
    },
    {
     "name": "stdout",
     "output_type": "stream",
     "text": [
      "158 is a three digit even number\n"
     ]
    }
   ],
   "source": [
    "#Check if the given number is a three digit even number\n",
    "\n",
    "Input_data=int(input('Enter the number'))\n",
    "if Input_data > 99 and Input_data < 1000:\n",
    "    if Input_data % 2 == 0:\n",
    "        print(str(Input_data)+' is a three digit even number')\n",
    "else:\n",
    "    print('You have entered non three digit even number')"
   ]
  },
  {
   "cell_type": "code",
   "execution_count": null,
   "id": "2b88be14-61ac-4966-b8b5-e6baddc7d0ea",
   "metadata": {},
   "outputs": [],
   "source": [
    "name=input('Enter your name')\n",
    "if name[0]=='a'or name[0]=='A':\n",
    "    print('Your name starts with A,B,c alphabetic letters')\n",
    "else:\n",
    "    print(\"Your name does'nt start with the alphabetic letter-a \")\n",
    "\n",
    "#Try code signal"
   ]
  },
  {
   "cell_type": "markdown",
   "id": "a9b8bad6-fdc6-4eb3-8dc6-d1996f814cef",
   "metadata": {},
   "source": [
    "Bitwise Operators\n",
    "\n",
    "&  - and\n",
    "\n",
    "|  - or\n",
    "\n",
    "~  - not\n",
    "\n",
    "^  - exor\n",
    "\n",
    ">> - left shift\n",
    "\n",
    "<< - right shift  \n",
    "\n",
    "(very strict OR-true if one input as true and another input as false)\n",
    "\n",
    "In Computer Memory Everything will be Stored in form of 0's and 1's(Transistor will be connected with the capacitor in the circuit)\n",
    "\n",
    "If it gets charged it is considered as 1, if not it is considered as 0 - as scale integration in decimal number each will be consider as a digit, likewise in binary number each will be considered as a bit.\n",
    "\n",
    "consider 5-101 bitwise operator will perform operation on each bit(handles it) but other operators perform operation by whole number\n",
    "\n",
    "         6-110 at the background everything will be handled in a bit wise manner don't see in that point of view see in programmer's point of view\n",
    "                                                \n",
    "negative numbers can be handled using 2s complement(which will be stored.\n",
    "\n",
    "Application of BitwiseOperators\n",
    "\n",
    " .messages(encryption-decryption)--whatsapp\n",
    " \n",
    " .networks parity checking,error codes\n",
    " \n",
    " .Graphics-EXOR operator has been used\n"
   ]
  },
  {
   "cell_type": "code",
   "execution_count": 1,
   "id": "63bea66f-b476-41cb-991b-e4c87ddaa8b7",
   "metadata": {},
   "outputs": [
    {
     "data": {
      "text/plain": [
       "4"
      ]
     },
     "execution_count": 1,
     "metadata": {},
     "output_type": "execute_result"
    }
   ],
   "source": [
    "a=4\n",
    "b=5\n",
    "a&b"
   ]
  },
  {
   "cell_type": "code",
   "execution_count": 2,
   "id": "7951a862-430a-4fa1-9fb3-cf97c741cc24",
   "metadata": {
    "editable": true,
    "slideshow": {
     "slide_type": ""
    },
    "tags": []
   },
   "outputs": [
    {
     "data": {
      "text/plain": [
       "5"
      ]
     },
     "execution_count": 2,
     "metadata": {},
     "output_type": "execute_result"
    }
   ],
   "source": [
    "a|b"
   ]
  },
  {
   "cell_type": "code",
   "execution_count": 3,
   "id": "77d5c0f6-e383-4dab-b815-412bdcc7438d",
   "metadata": {},
   "outputs": [
    {
     "data": {
      "text/plain": [
       "1"
      ]
     },
     "execution_count": 3,
     "metadata": {},
     "output_type": "execute_result"
    }
   ],
   "source": [
    "a^b"
   ]
  },
  {
   "cell_type": "code",
   "execution_count": 5,
   "id": "9576a79a-4ed5-4dd4-950a-e151a56adb36",
   "metadata": {},
   "outputs": [
    {
     "data": {
      "text/plain": [
       "-5"
      ]
     },
     "execution_count": 5,
     "metadata": {},
     "output_type": "execute_result"
    }
   ],
   "source": [
    "~a"
   ]
  },
  {
   "cell_type": "code",
   "execution_count": 18,
   "id": "9fac0c1d-2045-4103-948b-eb64c05ade2a",
   "metadata": {},
   "outputs": [
    {
     "data": {
      "text/plain": [
       "6"
      ]
     },
     "execution_count": 18,
     "metadata": {},
     "output_type": "execute_result"
    }
   ],
   "source": [
    "13 >> 1 #Right  shift number will be halved,0 will be filled in empty space"
   ]
  },
  {
   "cell_type": "code",
   "execution_count": 14,
   "id": "3b023a53-3ce7-4cbd-b841-ccf81e42adb1",
   "metadata": {},
   "outputs": [
    {
     "data": {
      "text/plain": [
       "3"
      ]
     },
     "execution_count": 14,
     "metadata": {},
     "output_type": "execute_result"
    }
   ],
   "source": [
    "13 >> 2"
   ]
  },
  {
   "cell_type": "code",
   "execution_count": 16,
   "id": "0193e020-ddc0-4031-8a71-4069bd4cd430",
   "metadata": {},
   "outputs": [
    {
     "data": {
      "text/plain": [
       "26"
      ]
     },
     "execution_count": 16,
     "metadata": {},
     "output_type": "execute_result"
    }
   ],
   "source": [
    "13 << 1 #left shift number will be doubled"
   ]
  },
  {
   "cell_type": "code",
   "execution_count": 12,
   "id": "999a9fd9-64b2-4958-892b-3fd40057d7ef",
   "metadata": {},
   "outputs": [
    {
     "data": {
      "text/plain": [
       "52"
      ]
     },
     "execution_count": 12,
     "metadata": {},
     "output_type": "execute_result"
    }
   ],
   "source": [
    "13 << 2"
   ]
  },
  {
   "cell_type": "code",
   "execution_count": 24,
   "id": "c8b9b87c-3d30-46f7-a99b-032c6045e1f6",
   "metadata": {},
   "outputs": [
    {
     "data": {
      "text/plain": [
       "-6"
      ]
     },
     "execution_count": 24,
     "metadata": {},
     "output_type": "execute_result"
    }
   ],
   "source": [
    "-12 >> 1# if 1 is placed to denote sign,then 1 will be retained,python won,t introduce 0 all the time,if 1 is assigned in MSB then the number is number is negative number."
   ]
  },
  {
   "cell_type": "markdown",
   "id": "dc06f8ee-a590-47ea-aa07-44348e867b56",
   "metadata": {},
   "source": [
    "String Slicing- Used to take a particular part from String. Example:Maybe a letter from a string\n",
    "\n",
    "ways to implement String Slicing:\n",
    "\n",
    " Using Indexing\n",
    "\n",
    " Using Slice Method\n",
    "\n",
    " Python's Indexing\n",
    "\n",
    "      A   n   n   a   m   a   l   a   i       U  n  i  v  e  r  s  i  t  y \n",
    "      0   1   2   3   4   5   6   7   8   9   10 11 12 13 14 15 16 17 18 19 Positive indexing\n",
    "     -20 -19 -18 -17 -16 -15 -14 -13 -12 -11 -10 -9 -8 -7 -6 -5 -4 -3 -2 -1 Negative indexing -used to access from the reverse order\n",
    "\n",
    "     "
   ]
  },
  {
   "cell_type": "code",
   "execution_count": 4,
   "id": "89222f79-e779-442d-a314-f1346d2f0aa8",
   "metadata": {},
   "outputs": [],
   "source": [
    " UGC='Annamalai University'\n"
   ]
  },
  {
   "cell_type": "markdown",
   "id": "58d11ae5-0c54-432e-a882-541cf8b77a03",
   "metadata": {},
   "source": [
    "Using Indexing-String Slicing\n",
    "\n",
    "str(start:stop:step)"
   ]
  },
  {
   "cell_type": "code",
   "execution_count": 34,
   "id": "9279883d-4813-4f17-8121-0eeeacd80d1e",
   "metadata": {},
   "outputs": [
    {
     "name": "stdout",
     "output_type": "stream",
     "text": [
      "a\n"
     ]
    }
   ],
   "source": [
    "print(UGC[3])"
   ]
  },
  {
   "cell_type": "code",
   "execution_count": 38,
   "id": "6295ed33-4c00-4e03-8a3f-a236183c702e",
   "metadata": {},
   "outputs": [
    {
     "name": "stdout",
     "output_type": "stream",
     "text": [
      "Anna\n"
     ]
    }
   ],
   "source": [
    "print(UGC[0:4]) #Range of values,Python won,t print till index(4), it will print till(3). 0--Start index,4--Stop index"
   ]
  },
  {
   "cell_type": "code",
   "execution_count": 40,
   "id": "7b3b618d-2889-47e1-a4cb-83a1afe0ad47",
   "metadata": {},
   "outputs": [
    {
     "name": "stdout",
     "output_type": "stream",
     "text": [
      "Anna\n"
     ]
    }
   ],
   "source": [
    "print(UGC[:4])#Print from the starting index."
   ]
  },
  {
   "cell_type": "code",
   "execution_count": 42,
   "id": "7b353051-cf72-4c81-af48-a07ac1506589",
   "metadata": {},
   "outputs": [
    {
     "name": "stdout",
     "output_type": "stream",
     "text": [
      "University\n"
     ]
    }
   ],
   "source": [
    "print(UGC[10:])#Print from the index(3)."
   ]
  },
  {
   "cell_type": "code",
   "execution_count": 43,
   "id": "c56102a2-4a9f-4843-a4e5-332374f5f05b",
   "metadata": {},
   "outputs": [
    {
     "name": "stdout",
     "output_type": "stream",
     "text": [
      "Anml\n"
     ]
    }
   ],
   "source": [
    "print(UGC[0:8:2])"
   ]
  },
  {
   "cell_type": "code",
   "execution_count": 45,
   "id": "7e2758d2-0c5e-4255-a16e-a7c4809508ab",
   "metadata": {},
   "outputs": [
    {
     "name": "stdout",
     "output_type": "stream",
     "text": [
      "s\n"
     ]
    }
   ],
   "source": [
    "#Negative indexing\n",
    "print(UGC[-4])"
   ]
  },
  {
   "cell_type": "code",
   "execution_count": 48,
   "id": "1c1a614d-dff1-45da-a66d-8555679d1d73",
   "metadata": {},
   "outputs": [
    {
     "name": "stdout",
     "output_type": "stream",
     "text": [
      "nivers\n"
     ]
    }
   ],
   "source": [
    "print(UGC[-9:-3])"
   ]
  },
  {
   "cell_type": "code",
   "execution_count": 52,
   "id": "54b9af29-2637-4991-a003-d4e13e85fc7c",
   "metadata": {},
   "outputs": [
    {
     "name": "stdout",
     "output_type": "stream",
     "text": [
      "isrevi\n"
     ]
    }
   ],
   "source": [
    "print(UGC[-3:-9:-1])"
   ]
  },
  {
   "cell_type": "code",
   "execution_count": 13,
   "id": "9700c3a6-7a8e-457c-ae2b-59c386eaa6a5",
   "metadata": {},
   "outputs": [
    {
     "ename": "NameError",
     "evalue": "name 'UGC' is not defined",
     "output_type": "error",
     "traceback": [
      "\u001b[0;31m---------------------------------------------------------------------------\u001b[0m",
      "\u001b[0;31mNameError\u001b[0m                                 Traceback (most recent call last)",
      "Cell \u001b[0;32mIn[13], line 1\u001b[0m\n\u001b[0;32m----> 1\u001b[0m \u001b[38;5;28mprint\u001b[39m(\u001b[43mUGC\u001b[49m[::\u001b[38;5;241m-\u001b[39m\u001b[38;5;241m1\u001b[39m])\u001b[38;5;66;03m#We can perform lot of things using(-1),in this scenario python would print entire string in reverse order.\u001b[39;00m\n",
      "\u001b[0;31mNameError\u001b[0m: name 'UGC' is not defined"
     ]
    }
   ],
   "source": [
    "print(UGC[::-1])#We can perform lot of things using(-1),in this scenario python would print entire string in reverse order."
   ]
  },
  {
   "cell_type": "code",
   "execution_count": 57,
   "id": "cf13ce03-c04d-4a62-84e3-8c8e07ba24a1",
   "metadata": {},
   "outputs": [
    {
     "name": "stdout",
     "output_type": "stream",
     "text": [
      "ytisrevi\n"
     ]
    }
   ],
   "source": [
    "print(UGC[:-9:-1])"
   ]
  },
  {
   "cell_type": "code",
   "execution_count": 58,
   "id": "26f1a889-a27e-45ea-bf0d-fbc1fbd843ff",
   "metadata": {},
   "outputs": [
    {
     "name": "stdout",
     "output_type": "stream",
     "text": [
      "ai Uni\n"
     ]
    }
   ],
   "source": [
    "print(UGC[7:-7])#we can mix both positive and negative indexing\n"
   ]
  },
  {
   "cell_type": "markdown",
   "id": "411e8a16-6503-413f-9974-4c72e0bd742c",
   "metadata": {},
   "source": [
    " Using Slice Method-String Slicing"
   ]
  },
  {
   "cell_type": "code",
   "execution_count": 5,
   "id": "f0ac88ca-6c5c-4f41-9ac7-55b994343656",
   "metadata": {},
   "outputs": [
    {
     "name": "stdout",
     "output_type": "stream",
     "text": [
      "namalai Universi\n"
     ]
    }
   ],
   "source": [
    "x=(slice(2,-2))\n",
    "print(UGC[2:-2])\n"
   ]
  },
  {
   "cell_type": "markdown",
   "id": "92d7dfaf-b19e-4c29-ba87-d18de515b711",
   "metadata": {},
   "source": [
    "Lists\n",
    "\n",
    "Python's  indexing starts from 0"
   ]
  },
  {
   "cell_type": "code",
   "execution_count": 14,
   "id": "86ba2c24-8cce-4add-8f99-52db8f416152",
   "metadata": {},
   "outputs": [],
   "source": [
    "Countries=['India','China','Russia','Germany']\n",
    "values=[1,2,3,4,5]\n",
    "Lists_data=[92,'India',100,'China']#we can give different data types in list."
   ]
  },
  {
   "cell_type": "code",
   "execution_count": 16,
   "id": "e04066c2-0c5e-4dc1-8333-ee60eaa67f0d",
   "metadata": {},
   "outputs": [
    {
     "name": "stdout",
     "output_type": "stream",
     "text": [
      "India\n",
      "3\n",
      "[1, 2]\n",
      "5\n",
      "['India', 'Russia']\n",
      "[1, 2, 3, 4, 5]\n"
     ]
    }
   ],
   "source": [
    "print(Countries[0])\n",
    "print(values[2])\n",
    "print(values[:2])#We can use slicing method in Lists.\n",
    "print(values[-1])\n",
    "print(Countries[::2])#in steps of two.\n",
    "print(values)#print full values."
   ]
  },
  {
   "cell_type": "code",
   "execution_count": 17,
   "id": "6a14af15-49fd-43bf-a44c-5549df69721c",
   "metadata": {},
   "outputs": [
    {
     "name": "stdout",
     "output_type": "stream",
     "text": [
      "['India', 'China', 'Russia', 'Germany']\n",
      "['India', 'China', 'Russia', 'Japan']\n"
     ]
    }
   ],
   "source": [
    "print(Countries)\n",
    "#Modiftying use to alter(Change) the existing values.\n",
    "Countries[3]='Japan'\n",
    "print(Countries)"
   ]
  },
  {
   "cell_type": "code",
   "execution_count": 18,
   "id": "a3b5b4de-ad9b-4fe8-a185-05565a510eab",
   "metadata": {},
   "outputs": [
    {
     "name": "stdout",
     "output_type": "stream",
     "text": [
      "[1, 2, 3, 4, 5, 6]\n"
     ]
    }
   ],
   "source": [
    "#Append-Adding values to the end.\n",
    "values.append(6)\n",
    "print(values)"
   ]
  },
  {
   "cell_type": "code",
   "execution_count": 19,
   "id": "75ed1fb2-916e-4f97-87de-29a8333ec51e",
   "metadata": {},
   "outputs": [
    {
     "name": "stdout",
     "output_type": "stream",
     "text": [
      "[1, 2, 3, 4, 4.5, 5, 6]\n"
     ]
    }
   ],
   "source": [
    "#Insert-Adding at the middle.\n",
    "values.insert(4,4.5)#4-refers index,4.5-refers value\n",
    "print(values)"
   ]
  },
  {
   "cell_type": "code",
   "execution_count": 20,
   "id": "b333ba24-d651-406f-b86f-59251ed70a87",
   "metadata": {},
   "outputs": [
    {
     "name": "stdout",
     "output_type": "stream",
     "text": [
      "[1, 2, 3, 4, 5, 6]\n"
     ]
    }
   ],
   "source": [
    "#Remove values using 'del',\n",
    "del values[4]#if we use del keyword we don't which element has been deleted\n",
    "print(values)"
   ]
  },
  {
   "cell_type": "code",
   "execution_count": 15,
   "id": "ca3b1796-08a6-45c3-a3f3-1361a8be28c8",
   "metadata": {},
   "outputs": [
    {
     "name": "stdout",
     "output_type": "stream",
     "text": [
      "5has been delected\n",
      "[1, 2, 3, 4]\n"
     ]
    }
   ],
   "source": [
    "Delected_element=values.pop()#by default Remove last element,we can also specify the index inside the parentheses\n",
    "print(str(Delected_element) + \"has been delected\")#diff b/w del(keyword) and pop(method) is del which does'nt mention the element that has been deleted.\n",
    "print(values)\n"
   ]
  },
  {
   "cell_type": "code",
   "execution_count": 28,
   "id": "30ec22e7-87c8-4414-be5a-9f091cc3c5ee",
   "metadata": {},
   "outputs": [
    {
     "name": "stdout",
     "output_type": "stream",
     "text": [
      "[1, 2]\n"
     ]
    }
   ],
   "source": [
    "#Remove by value-If we know the element\n",
    "\n",
    "values.remove(3)\n",
    "print(values)"
   ]
  },
  {
   "cell_type": "code",
   "execution_count": 32,
   "id": "1aecc306-cf3f-4bac-a38b-ce239cedefee",
   "metadata": {},
   "outputs": [
    {
     "name": "stdout",
     "output_type": "stream",
     "text": [
      "['t']\n"
     ]
    }
   ],
   "source": [
    " t=['t','t']\n",
    "t.remove('t')\n",
    "print(t)"
   ]
  },
  {
   "cell_type": "markdown",
   "id": "05e5e9b4-071b-4c62-8305-f9abb7842619",
   "metadata": {},
   "source": [
    "Sorting-string\"Arrange in alphabetic Order\".Number\"Arrange in acsending Order\"\n",
    "\n",
    "There are  major types of Sorting \n",
    "\n",
    ". Permanent Sort--list_name.sort()\n",
    "\n",
    ". Temporary Sort--print(sorted(list_name))\n",
    "\n"
   ]
  },
  {
   "cell_type": "code",
   "execution_count": 39,
   "id": "72815b01-0432-4b00-917e-408bbe8f79d8",
   "metadata": {},
   "outputs": [],
   "source": [
    "Universities_name=['Annamalai University','Anna University','SRM','Bharathidasan University']\n",
    "Numbers_list=[1,2,3,20,30,25,4,5,6]"
   ]
  },
  {
   "cell_type": "code",
   "execution_count": 17,
   "id": "cac32d61-1b51-46cb-9da4-7d244ea27728",
   "metadata": {},
   "outputs": [
    {
     "ename": "NameError",
     "evalue": "name 'Universities_name' is not defined",
     "output_type": "error",
     "traceback": [
      "\u001b[0;31m---------------------------------------------------------------------------\u001b[0m",
      "\u001b[0;31mNameError\u001b[0m                                 Traceback (most recent call last)",
      "Cell \u001b[0;32mIn[17], line 2\u001b[0m\n\u001b[1;32m      1\u001b[0m \u001b[38;5;66;03m#Temporary Sort:\u001b[39;00m\n\u001b[0;32m----> 2\u001b[0m \u001b[38;5;28mprint\u001b[39m(\u001b[38;5;28msorted\u001b[39m(\u001b[43mUniversities_name\u001b[49m))\n\u001b[1;32m      3\u001b[0m \u001b[38;5;28mprint\u001b[39m(Universities_name)\n\u001b[1;32m      4\u001b[0m \u001b[38;5;66;03m#Permanent Sort:\u001b[39;00m\n",
      "\u001b[0;31mNameError\u001b[0m: name 'Universities_name' is not defined"
     ]
    }
   ],
   "source": [
    "#Temporary Sort:\n",
    "print(sorted(Universities_name))\n",
    "print(Universities_name)\n",
    "#Permanent Sort:\n",
    "Universities_name.sort()\n",
    "print(Universities_name)\n",
    "\n",
    "#Temporary Sort:\n",
    "print(sorted(Numbers_list))\n",
    "print(Numbers_list)\n",
    "#Permanent Sort:\n",
    "Numbers_list.sort()\n",
    "print(Numbers_list)\n",
    "\n",
    "#Reverse\n",
    "Numbers_list.reverse()# Reverse permantently if we want the  old form of the list,we need to use reverse method again.\n",
    "print(Numbers_list)"
   ]
  },
  {
   "cell_type": "markdown",
   "id": "a0b5c34e-f7d2-4bc2-8e35-f7bd2f33b8e3",
   "metadata": {},
   "source": [
    "Length of the list:"
   ]
  },
  {
   "cell_type": "code",
   "execution_count": 50,
   "id": "a9c905e2-51d3-42d6-a501-f1b7b1de0a48",
   "metadata": {},
   "outputs": [
    {
     "name": "stdout",
     "output_type": "stream",
     "text": [
      "9\n"
     ]
    }
   ],
   "source": [
    "print(len(Numbers_list))"
   ]
  },
  {
   "cell_type": "code",
   "execution_count": 51,
   "id": "ad03a9c6-5cf6-4763-9bc5-5d5b188a69ae",
   "metadata": {},
   "outputs": [
    {
     "data": {
      "text/plain": [
       "9"
      ]
     },
     "execution_count": 51,
     "metadata": {},
     "output_type": "execute_result"
    }
   ],
   "source": [
    "len(Numbers_list)"
   ]
  }
 ],
 "metadata": {
  "kernelspec": {
   "display_name": "Python 3 (ipykernel)",
   "language": "python",
   "name": "python3"
  },
  "language_info": {
   "codemirror_mode": {
    "name": "ipython",
    "version": 3
   },
   "file_extension": ".py",
   "mimetype": "text/x-python",
   "name": "python",
   "nbconvert_exporter": "python",
   "pygments_lexer": "ipython3",
   "version": "3.11.5"
  }
 },
 "nbformat": 4,
 "nbformat_minor": 5
}
